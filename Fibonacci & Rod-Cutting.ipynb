{
  "nbformat": 4,
  "nbformat_minor": 0,
  "metadata": {
    "colab": {
      "provenance": []
    },
    "kernelspec": {
      "name": "python3",
      "display_name": "Python 3"
    },
    "language_info": {
      "name": "python"
    }
  },
  "cells": [
    {
      "cell_type": "markdown",
      "metadata": {
        "id": "KONyOFofbObt"
      },
      "source": [
        "## Q1 i) Memoization (Top Down) Fibonacci"
      ]
    },
    {
      "cell_type": "code",
      "metadata": {
        "id": "88UxzJBYbKqj"
      },
      "source": [
        "def fib(n, lookup = None):\n",
        "    # Initialization case\n",
        "    if lookup is None:\n",
        "        lookup = [None] * (n+1)\n",
        "\n",
        "    # Base case\n",
        "    if n == 0 or n == 1 :\n",
        "        lookup[n] = n\n",
        "\n",
        "    # Top down\n",
        "    if lookup[n] is None:\n",
        "        lookup[n] = fib(n-1, lookup) + fib(n-2, lookup)\n",
        "\n",
        "    return lookup[n]"
      ],
      "execution_count": null,
      "outputs": []
    },
    {
      "cell_type": "code",
      "metadata": {
        "colab": {
          "base_uri": "https://localhost:8080/"
        },
        "id": "zmy6J_dVbK0s",
        "outputId": "b2fba8a3-eeba-4471-c1c4-66d4154de852"
      },
      "source": [
        "print(fib(5))"
      ],
      "execution_count": null,
      "outputs": [
        {
          "output_type": "stream",
          "text": [
            "5\n"
          ],
          "name": "stdout"
        }
      ]
    },
    {
      "cell_type": "markdown",
      "metadata": {
        "id": "URowxNxjbg2U"
      },
      "source": [
        "## Q1 ii) Memoization (Top Down) Fibonacci"
      ]
    },
    {
      "cell_type": "code",
      "metadata": {
        "id": "utO_eHvObrqe"
      },
      "source": [
        "def fib2(n):\n",
        "    # Initialization\n",
        "    lookup = [0, 1]\n",
        "\n",
        "    # Bottom up\n",
        "    for i in range(2, n+1):\n",
        "        lookup.append(lookup[i-1] + lookup[i-2])\n",
        "\n",
        "    return lookup[n]\n"
      ],
      "execution_count": null,
      "outputs": []
    },
    {
      "cell_type": "code",
      "metadata": {
        "colab": {
          "base_uri": "https://localhost:8080/"
        },
        "id": "JjyDIgapbwhm",
        "outputId": "37872ea4-f20b-4c36-dd18-ff2058b2f056"
      },
      "source": [
        "print(fib2(5))"
      ],
      "execution_count": null,
      "outputs": [
        {
          "output_type": "stream",
          "text": [
            "5\n"
          ],
          "name": "stdout"
        }
      ]
    },
    {
      "cell_type": "markdown",
      "metadata": {
        "id": "wOZc8HtNb2CV"
      },
      "source": [
        "## Q2 Rod-cutting Problem"
      ]
    },
    {
      "cell_type": "code",
      "metadata": {
        "id": "qLsueyYEb6-u"
      },
      "source": [
        "def rodCut(price, n):\n",
        "\n",
        "    # `T[i]` stores the maximum profit achieved from a rod of length `i`\n",
        "    T = [0] * (n + 1)\n",
        "\n",
        "    # consider a rod of length `i`\n",
        "    for i in range(1, n + 1):\n",
        "        # divide the rod of length `i` into two rods of length `j`\n",
        "        # and `i-j` each and take maximum\n",
        "        for j in range(1, i + 1):\n",
        "            T[i] = max(T[i], price[j - 1] + T[i - j])\n",
        "\n",
        "    # `T[n]` stores the maximum profit achieved from a rod of length `n`\n",
        "    return T[n]"
      ],
      "execution_count": null,
      "outputs": []
    },
    {
      "cell_type": "code",
      "metadata": {
        "colab": {
          "base_uri": "https://localhost:8080/"
        },
        "id": "K07_Xw4Nb_24",
        "outputId": "6b187032-ca5d-47d0-afb3-7318bbc4c1d3"
      },
      "source": [
        "# length = [1, 2, 3, 4, 5, 6, 7, 8]\n",
        "price = [1, 5, 8, 9, 10, 17, 17, 20]\n",
        "n = 4        # rod length\n",
        "\n",
        "print(\"Maximum revenue is\", rodCut(price, n))"
      ],
      "execution_count": null,
      "outputs": [
        {
          "output_type": "stream",
          "text": [
            "Maximum revenue is 10\n"
          ],
          "name": "stdout"
        }
      ]
    }
  ]
}