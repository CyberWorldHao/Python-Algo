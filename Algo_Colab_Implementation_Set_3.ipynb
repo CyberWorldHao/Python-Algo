{
  "nbformat": 4,
  "nbformat_minor": 0,
  "metadata": {
    "colab": {
      "provenance": [],
      "authorship_tag": "ABX9TyPdBGvw/FLdbG0ouptyDtYv"
    },
    "kernelspec": {
      "display_name": "Python 3",
      "name": "python3"
    },
    "language_info": {
      "name": "python"
    }
  },
  "cells": [
    {
      "cell_type": "code",
      "metadata": {
        "colab": {
          "base_uri": "https://localhost:8080/"
        },
        "id": "vAr0dZkIkwGO",
        "outputId": "d52b34bb-af50-4ccb-dde1-cd643413fa2d"
      },
      "source": [
        "# Set 3\n",
        "# Purpose: This program is to print the path that vertex can go from a given graph using DFS\n",
        "from collections import defaultdict\n",
        "\n",
        "# This class represents a directed graph using adjacency list representation\n",
        "class Graph:\n",
        "\n",
        "    # Constructor\n",
        "    def __init__(self):\n",
        "\n",
        "        # default dictionary to store graph\n",
        "        self.graph = defaultdict(list)\n",
        "\n",
        "    # function to add an edge to graph\n",
        "    def addEdge(self, u, v):\n",
        "        self.graph[u].append(v)\n",
        "\n",
        "    # A function used by DFS\n",
        "    def DFSUtil(self, v, visited):\n",
        "\n",
        "        # Mark the current node as visited and print it\n",
        "        visited.add(v)\n",
        "        print(v, end=' ')\n",
        "\n",
        "        # Recur for all the vertices adjacent to this vertex\n",
        "        for neighbour in self.graph[v]:\n",
        "            if neighbour not in visited:\n",
        "                self.DFSUtil(neighbour, visited)\n",
        "\n",
        "    # The function to do DFS traversal. It uses recursive DFSUtil()\n",
        "    def DFS(self, v):\n",
        "\n",
        "        # Create a set to store visited vertices\n",
        "        visited = set()\n",
        "\n",
        "        # Call the recursive helper function to print DFS traversal\n",
        "        self.DFSUtil(v, visited)\n",
        "\n",
        "###############################################################################\n",
        "\n",
        "# Default graph\n",
        "# Change graph edge for vertex like this (vertex,direction)\n",
        "g = Graph()\n",
        "g.addEdge(0, 1)\n",
        "g.addEdge(0, 2)\n",
        "g.addEdge(1, 2)\n",
        "g.addEdge(2, 0)\n",
        "g.addEdge(2, 3)\n",
        "g.addEdge(3, 3)\n",
        "\n",
        "ver = input (\"Enter the vertex to find the path :\")\n",
        "print(\"Finding path (starting from vertex \" + ver + \")\")\n",
        "g.DFS(int(ver))"
      ],
      "execution_count": null,
      "outputs": [
        {
          "output_type": "stream",
          "text": [
            "Enter the vertex to find the path :3\n",
            "Finding path (starting from vertex 3)\n",
            "3 "
          ],
          "name": "stdout"
        }
      ]
    }
  ]
}