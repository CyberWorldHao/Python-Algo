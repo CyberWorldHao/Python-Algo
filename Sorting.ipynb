{
  "nbformat": 4,
  "nbformat_minor": 0,
  "metadata": {
    "colab": {
      "provenance": []
    },
    "kernelspec": {
      "name": "python3",
      "display_name": "Python 3"
    },
    "language_info": {
      "name": "python"
    }
  },
  "cells": [
    {
      "cell_type": "code",
      "metadata": {
        "id": "qhp7yAfabCx1"
      },
      "source": [
        "import math"
      ],
      "execution_count": null,
      "outputs": []
    },
    {
      "cell_type": "markdown",
      "metadata": {
        "id": "DOEp5PuIbLon"
      },
      "source": [
        "## Counting Sort"
      ]
    },
    {
      "cell_type": "code",
      "metadata": {
        "id": "nje7Hlwkbc7N",
        "colab": {
          "base_uri": "https://localhost:8080/"
        },
        "outputId": "1d5175ed-a619-4092-ea68-9e1798042fc8"
      },
      "source": [
        "# The function that sorts the given arr[]\n",
        "def CountingSort(arr):\n",
        "    max_element = int(max(arr))\n",
        "    min_element = int(min(arr))\n",
        "    range_of_elements = max_element - min_element + 1\n",
        "\n",
        "    # Create a count array to store count of individual elements and initialize count array as 0\n",
        "    count = [0 for _ in range(range_of_elements)]\n",
        "    output = [0 for _ in range(len(arr))]\n",
        "\n",
        "    # Store count of each character\n",
        "    for i in range(0, len(arr)):\n",
        "        count[arr[i]-min_element] += 1\n",
        "\n",
        "    # Change count[i] to contain actual position of this element in output array\n",
        "    for i in range(1, len(count)):\n",
        "        count[i] += count[i-1]\n",
        "\n",
        "    # Build the output character array\n",
        "    for i in range(len(arr)-1, -1, -1):\n",
        "        output[count[arr[i] - min_element] - 1] = arr[i]\n",
        "        count[arr[i] - min_element] -= 1\n",
        "\n",
        "    # Copy the output array to arr, so that arr now contains sorted characters\n",
        "    for i in range(0, len(arr)):\n",
        "        arr[i] = output[i]\n",
        "\n",
        "    return arr\n",
        "\n",
        "\n",
        "# Driver program to test above function\n",
        "arr = [84, 23, 62, 44, 16, 30, 95, 51]\n",
        "ans = CountingSort(arr)\n",
        "print(\"Sorted character array is \" + str(ans))"
      ],
      "execution_count": null,
      "outputs": [
        {
          "output_type": "stream",
          "text": [
            "Sorted character array is [16, 23, 30, 44, 51, 62, 84, 95]\n"
          ],
          "name": "stdout"
        }
      ]
    },
    {
      "cell_type": "markdown",
      "metadata": {
        "id": "qvZNho8EbQV3"
      },
      "source": [
        "## Radix Sort"
      ]
    },
    {
      "cell_type": "code",
      "metadata": {
        "id": "BA014bcCbdSO"
      },
      "source": [
        "def countingSort(arr, digit, radix):\n",
        "    # length of array\n",
        "    n = len(arr)\n",
        "    # cumulative frequency of radix sequential element\n",
        "    count = [0 for _ in range(radix)]\n",
        "    # sorted arr as return variable\n",
        "    output = [0 for _ in range(len(arr))]\n",
        "\n",
        "    # calculate the frequency\n",
        "    for i in range(len(arr)):\n",
        "        # by radix digit\n",
        "        index = int((arr[i] / (radix**digit)) % radix)\n",
        "        count[index] += 1\n",
        "\n",
        "    # calculate the cumulative frequency\n",
        "    for i in range(1, len(count)):\n",
        "        count[i] += count[i-1]\n",
        "\n",
        "    # count sort (iterate in reverse)\n",
        "    for i in range(len(arr)-1, -1, -1):\n",
        "        index = int((arr[i] / (radix**digit)) % radix)\n",
        "        output[count[index] - 1] = arr[i]\n",
        "        count[index] -= 1\n",
        "\n",
        "    return output\n",
        "\n",
        "\n",
        "def radixSort(arr, radix):\n",
        "    # keep a copy\n",
        "    arr = arr.copy()\n",
        "    # get max value in the array\n",
        "    maxVal = max(arr)\n",
        "    # get radix digits\n",
        "    digits = int(math.floor(math.log(maxVal, radix)+1))\n",
        "\n",
        "    # loop for counting sort based on radix digits\n",
        "    for i in range(digits):\n",
        "        arr = countingSort(arr, i, radix)\n",
        "\n",
        "    return arr"
      ],
      "execution_count": null,
      "outputs": []
    },
    {
      "cell_type": "code",
      "metadata": {
        "id": "Wd0AVmCEb-4h"
      },
      "source": [
        "A = [84, 23, 62, 44, 16, 30, 95, 51]\n",
        "print(radixSort(A, 10))"
      ],
      "execution_count": null,
      "outputs": []
    },
    {
      "cell_type": "markdown",
      "metadata": {
        "id": "TMCFekqmbWC-"
      },
      "source": [
        "## Rabin-karp Algorithm"
      ]
    },
    {
      "cell_type": "code",
      "metadata": {
        "id": "FsQbISGhbdqW",
        "colab": {
          "base_uri": "https://localhost:8080/"
        },
        "outputId": "dcb6ce5e-1d11-4325-e0bd-ae4bee131b49"
      },
      "source": [
        "def RabinKarpSearch(pattern, text, d, q):\n",
        "    m = len(pattern)\n",
        "    n = len(text)\n",
        "    p = 0 # hash value for pattern\n",
        "    t = 0 # hash value for text\n",
        "    h = 1\n",
        "\n",
        "    for i in range(m-1):\n",
        "      h = (h*d) % q\n",
        "\n",
        "    # Calculate the hash value of pattern and first m-subsequences text\n",
        "    for i in range(m):\n",
        "      p = (d*p + ord(pattern[i]))%q\n",
        "      t = (d*t + ord(text[i]))%q\n",
        "\n",
        "    for i in range(n-m+1):\n",
        "      # Check the hash values of current window of text and pattern\n",
        "      if p==t: # if the hash values match\n",
        "        # Check for characters one by one\n",
        "        same = True\n",
        "        for j in range(m):\n",
        "          if text[i+j] != pattern[j]:\n",
        "            same = False\n",
        "            break\n",
        "\n",
        "        if same == True:\n",
        "          print(\"Pattern found at index \" + str(i))\n",
        "\n",
        "      # Calculate hash value for next window of text\n",
        "      if i < n-m:\n",
        "        t = (d*(t-ord(text[i])*h) + ord(text[i+m]))%q\n",
        "\n",
        "        if t < 0:\n",
        "          t = t+Q\n",
        "\n",
        "\n",
        "text = \"algorithmfunis\"\n",
        "pattern = \"fun\"\n",
        "q = 13\n",
        "\n",
        "# Function Call\n",
        "RabinKarpSearch(pattern,text,256,q)"
      ],
      "execution_count": null,
      "outputs": [
        {
          "output_type": "stream",
          "text": [
            "Pattern found at index 9\n"
          ],
          "name": "stdout"
        }
      ]
    },
    {
      "cell_type": "markdown",
      "metadata": {
        "id": "5Wf5Yu1NbWFd"
      },
      "source": [
        "## KMP Algorithm"
      ]
    },
    {
      "cell_type": "code",
      "metadata": {
        "id": "GcrSMnXKbeFu",
        "colab": {
          "base_uri": "https://localhost:8080/"
        },
        "outputId": "b191ef5b-2832-4946-ae4f-a084f4de69a4"
      },
      "source": [
        "def KMPSearch(T, P):\n",
        "    M = len(P)\n",
        "    N = len(T)\n",
        "\n",
        "    # create lps[] that will hold the longest prefix suffix\n",
        "    # values for P\n",
        "    lps = [0]*M\n",
        "    j = 0 # index for P[]\n",
        "\n",
        "    # Preprocess the P (calculate lps[] array)\n",
        "    computeLPSArray(P, M, lps)\n",
        "\n",
        "    i = 0 # index for T[]\n",
        "    while i < N:\n",
        "        if P[j] == T[i]:\n",
        "            i += 1\n",
        "            j += 1\n",
        "\n",
        "        if j == M: #the P is found\n",
        "            print (\"Found pattern at index \" + str(i-j))\n",
        "            j = lps[j-1]\n",
        "\n",
        "        # mismatch after j matches\n",
        "        elif i < N and P[j] != T[i]:\n",
        "            # Do not match lps[0..lps[j-1]] characters,\n",
        "            # they will match anyway\n",
        "            if j != 0:\n",
        "                j = lps[j-1]\n",
        "            else:\n",
        "                i += 1\n",
        "\n",
        "def computeLPSArray(P, M, lps):\n",
        "    len = 0 # length of the previous longest prefix suffix\n",
        "    # lps[0] is always 0\n",
        "    i = 1\n",
        "\n",
        "    # the loop calculates lps[i] for i = 1 to M-1\n",
        "    while i < M:\n",
        "        if P[i]== P[len]:\n",
        "            len += 1\n",
        "            lps[i] = len\n",
        "            i += 1\n",
        "        else:\n",
        "            # This is tricky. Consider the example.\n",
        "            # AAACAAAA and i = 7. The idea is similar\n",
        "            # to search step.\n",
        "            if len != 0:\n",
        "                len = lps[len-1]\n",
        "\n",
        "                # Also, note that we do not increment i here\n",
        "            else:\n",
        "                lps[i] = 0\n",
        "                i += 1\n",
        "\n",
        "T = \"algorithmisfun\"\n",
        "P = \"fun\"\n",
        "# T = \"AABAADAABAAAB\"\n",
        "# P = \"AABAAA\"\n",
        "KMPSearch(T, P)"
      ],
      "execution_count": null,
      "outputs": [
        {
          "output_type": "stream",
          "text": [
            "Found pattern at index 11\n"
          ],
          "name": "stdout"
        }
      ]
    },
    {
      "cell_type": "markdown",
      "metadata": {
        "id": "HIarl6H_bWZe"
      },
      "source": [
        "## TRIES"
      ]
    },
    {
      "cell_type": "code",
      "metadata": {
        "id": "bZQcDT_Lbec1",
        "colab": {
          "base_uri": "https://localhost:8080/"
        },
        "outputId": "339f8608-d575-4722-ab47-b25af091958c"
      },
      "source": [
        "import copy\n",
        "class SuffixTrie:\n",
        "\n",
        "    def __init__(self, text):\n",
        "        self.root = {}\n",
        "        for i in range(len(text)):  # for each suffix\n",
        "            cur = self.root\n",
        "            arr = text[i:]\n",
        "            for c in range(len(arr)):  # for each character in i'th suffix\n",
        "                if arr[c] not in cur:\n",
        "                    cur[arr[c]] = {'index':[c+i]}  # add outgoing edge if necessary\n",
        "                else:\n",
        "                    cur[arr[c]]['index'].append(c+i)\n",
        "                cur = cur[arr[c]]\n",
        "\n",
        "    def searchPattern(self, pattern):\n",
        "        cur = self.root\n",
        "        for c in pattern:\n",
        "            if c not in cur:\n",
        "                return None\n",
        "            cur = cur[c]\n",
        "\n",
        "        result = copy.deepcopy(cur['index'])\n",
        "        for i in range(len(result)):\n",
        "            result[i] -= len(pattern)-1\n",
        "\n",
        "        return result\n",
        "\n",
        "strie = SuffixTrie('algorithmisfun')\n",
        "answer = strie.searchPattern('fun')\n",
        "\n",
        "if answer is None:\n",
        "    print(\"Pattern not found\")\n",
        "else:\n",
        "    ansString=\"Pattern is found at index \"\n",
        "    ansString += ', '.join(map(str, answer))\n",
        "    print(ansString)"
      ],
      "execution_count": null,
      "outputs": [
        {
          "output_type": "stream",
          "text": [
            "Pattern is found at index 13\n"
          ],
          "name": "stdout"
        }
      ]
    }
  ]
}