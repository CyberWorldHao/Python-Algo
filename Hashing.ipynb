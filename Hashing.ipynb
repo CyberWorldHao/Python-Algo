{
  "nbformat": 4,
  "nbformat_minor": 0,
  "metadata": {
    "colab": {
      "provenance": [],
      "authorship_tag": "ABX9TyP9TpC9Ur4WZsjZQ22Y4KaB"
    },
    "kernelspec": {
      "name": "python3",
      "display_name": "Python 3"
    },
    "language_info": {
      "name": "python"
    }
  },
  "cells": [
    {
      "cell_type": "code",
      "metadata": {
        "colab": {
          "base_uri": "https://localhost:8080/"
        },
        "id": "1ElDqaN54wal",
        "outputId": "77fd2017-9a5f-484d-fbc5-3657fdee88c6"
      },
      "source": [
        "# Set 2\n",
        "thisdict = {\n",
        "  12846470: [\"cwh\"]\n",
        "}\n",
        "bits = 8\n",
        "def rotateRight(n, d):\n",
        "    result = (n >> d)|(n << (bits - d)) & 0xFF\n",
        "    return result\n",
        "\n",
        "def adding(key):\n",
        "   hval = GPHashRep(key)\n",
        "   there = False\n",
        "   for got in thisdict:\n",
        "    if (got == hval):\n",
        "      there = True\n",
        "      break\n",
        "\n",
        "   if (there == False):\n",
        "     thisdict[hval] = [key]\n",
        "   else:\n",
        "    there = False\n",
        "    for same in thisdict[hval]:\n",
        "      if (same == key):\n",
        "        there = True\n",
        "\n",
        "    if (there == False):\n",
        "      thisdict[hval].append(key)\n",
        "\n",
        "def GPHashRep(key):\n",
        "  hval=0x0\n",
        "  a0=0x0\n",
        "  for i in key:\n",
        "    a0 = int(format(ord(i),'08b')) & 0xFF\n",
        "    tmp1 = rotateRight(a0, 4)\n",
        "    tmp2 = rotateRight((hval^a0), 2)\n",
        "    hval = rotateRight((tmp1*tmp2), 1)\n",
        "  return hval\n",
        "\n",
        "# change \"TEST\" with the element intended to hash\n",
        "adding(\"TEST\")\n",
        "adding(\"test\")\n",
        "adding(\"chi\")\n",
        "adding(\"b\")\n",
        "adding(\"hi\")\n",
        "print(thisdict)"
      ],
      "execution_count": null,
      "outputs": [
        {
          "output_type": "stream",
          "text": [
            "{12846470: ['cwh'], 3895237: ['TEST'], 2090631: ['test'], 8222292: ['chi'], 16182: ['b'], 66846: ['hi']}\n"
          ],
          "name": "stdout"
        }
      ]
    },
    {
      "cell_type": "code",
      "source": [],
      "metadata": {
        "id": "Nc7hT_Q7LhQ-"
      },
      "execution_count": null,
      "outputs": []
    }
  ]
}
